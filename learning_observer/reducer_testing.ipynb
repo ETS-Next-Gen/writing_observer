{
 "cells": [
  {
   "cell_type": "code",
   "execution_count": 1,
   "id": "4a7dd2a2-0337-49de-aad1-4f4acc3857ae",
   "metadata": {},
   "outputs": [],
   "source": [
    "# Create a custom reducer\n",
    "\n",
    "# import helpers to define reducer scope\n",
    "from learning_observer.stream_analytics.helpers import kvs_pipeline, KeyField, Scope\n",
    "\n",
    "@kvs_pipeline(scope=Scope([KeyField.STUDENT]), module_override='testing')\n",
    "async def event_counter(event, state):\n",
    "    '''This is a simple reducer to count the total\n",
    "    events for a given scope.\n",
    "    '''\n",
    "    if state is None:\n",
    "        state = {}\n",
    "    state['event_count'] = state.get('event_count', 0) - 1\n",
    "    return state, state"
   ]
  },
  {
   "cell_type": "code",
   "execution_count": 7,
   "id": "169ee920-e84a-489c-8a47-eeadfbb84ba2",
   "metadata": {},
   "outputs": [],
   "source": [
    "# Implement reducer into system with our h\n",
    "ID = 'event_counter'\n",
    "module = 'example_mod'\n",
    "\n",
    "import learning_observer.interactive_development\n",
    "reducer = learning_observer.interactive_development.construct_reducer(ID, event_counter, module=module, default={'event_count': 0})\n",
    "await learning_observer.interactive_development.hot_load_reducer(reducer, reload=True, migration_function=learning_observer.interactive_development.DROP_DATA)"
   ]
  },
  {
   "cell_type": "code",
   "execution_count": 3,
   "id": "0a1ca8fe-5ccc-41c6-8391-5e8b9c66cabc",
   "metadata": {},
   "outputs": [
    {
     "name": "stdout",
     "output_type": "stream",
     "text": [
      "[{'context': 'org.mitros.writing_analytics', 'function': <function time_on_task at 0x7f88368b1e10>, 'scope': Scope({<EventField.doc_id>, <KeyField.STUDENT: 1>}), 'default': {'saved_ts': 0}, 'module': <module 'writing_observer.module' from '/home/brad/github/writing_observer/modules/writing_observer/writing_observer/module.py'>, 'id': 'writing_observer.time_on_task'}, {'context': 'org.mitros.writing_analytics', 'function': <function reconstruct at 0x7f88368b1f30>, 'scope': Scope({<EventField.doc_id>, <KeyField.STUDENT: 1>}), 'default': {'text': ''}, 'module': <module 'writing_observer.module' from '/home/brad/github/writing_observer/modules/writing_observer/writing_observer/module.py'>, 'id': 'writing_observer.reconstruct'}, {'context': 'org.mitros.writing_analytics', 'function': <function event_count at 0x7f88368b2050>, 'scope': Scope({<KeyField.STUDENT: 1>}), 'default': {}, 'module': <module 'writing_observer.module' from '/home/brad/github/writing_observer/modules/writing_observer/writing_observer/module.py'>, 'id': 'writing_observer.event_count'}, {'context': 'org.mitros.writing_analytics', 'function': <function document_list at 0x7f88368b23b0>, 'scope': Scope({<KeyField.STUDENT: 1>}), 'default': {'docs': []}, 'module': <module 'writing_observer.module' from '/home/brad/github/writing_observer/modules/writing_observer/writing_observer/module.py'>, 'id': 'writing_observer.document_list'}, {'context': 'org.mitros.writing_analytics', 'function': <function last_document at 0x7f88368b24d0>, 'scope': Scope({<KeyField.STUDENT: 1>}), 'default': {'document_id': ''}, 'module': <module 'writing_observer.module' from '/home/brad/github/writing_observer/modules/writing_observer/writing_observer/module.py'>, 'id': 'writing_observer.last_document'}, {'context': 'org.mitros.writing_analytics', 'function': <function document_tagging at 0x7f88368b2290>, 'scope': Scope({<KeyField.STUDENT: 1>}), 'default': {'tags': {}}, 'module': <module 'writing_observer.module' from '/home/brad/github/writing_observer/modules/writing_observer/writing_observer/module.py'>, 'id': 'writing_observer.document_tagging'}, {'context': 'org.mitros.writing_analytics', 'function': <function document_access_timestamps at 0x7f88368b2170>, 'scope': Scope({<KeyField.STUDENT: 1>}), 'default': {'timestamps': {}}, 'module': <module 'writing_observer.module' from '/home/brad/github/writing_observer/modules/writing_observer/writing_observer/module.py'>, 'id': 'writing_observer.document_access_timestamps'}, {'context': 'org.mitros.writing_analytics', 'function': <function event_counter at 0x7f882c178c10>, 'scope': Scope({<KeyField.STUDENT: 1>}), 'default': {'event_count': 0}, 'module': 'example_mod', 'id': 'event_counter'}]\n"
     ]
    }
   ],
   "source": [
    "import learning_observer.module_loader \n",
    "print(learning_observer.module_loader.reducers())"
   ]
  },
  {
   "cell_type": "code",
   "execution_count": 9,
   "id": "e70bd437-cbb5-4848-a48e-57c68cf96527",
   "metadata": {},
   "outputs": [
    {
     "data": {
      "text/plain": [
       "211"
      ]
     },
     "execution_count": 9,
     "metadata": {},
     "output_type": "execute_result"
    }
   ],
   "source": [
    "import learning_observer.kvs\n",
    "\n",
    "kvs = learning_observer.kvs.KVS()\n",
    "len(await kvs.keys())"
   ]
  },
  {
   "cell_type": "code",
   "execution_count": 10,
   "id": "77b3cd68-839e-46f7-b93b-b44aac5d5276",
   "metadata": {
    "editable": true,
    "slideshow": {
     "slide_type": ""
    },
    "tags": []
   },
   "outputs": [
    {
     "data": {
      "text/html": [
       "\n",
       "        <iframe\n",
       "            width=\"100%\"\n",
       "            height=\"650\"\n",
       "            src=\"http://127.0.0.1:8050/\"\n",
       "            frameborder=\"0\"\n",
       "            allowfullscreen\n",
       "            \n",
       "        ></iframe>\n",
       "        "
      ],
      "text/plain": [
       "<IPython.lib.display.IFrame at 0x7f882f30ee90>"
      ]
     },
     "metadata": {},
     "output_type": "display_data"
    }
   ],
   "source": [
    "# Create a dashboard to connect to the reducer you just wrote\n",
    "# This dashboard creates a graph for \"Total events over time\"\n",
    "import dash\n",
    "from dash import Dash, html, dcc, callback, Output, Input, State, clientside_callback, Patch\n",
    "import time\n",
    "import json\n",
    "import lo_dash_react_components as lodrc\n",
    "import pandas as pd\n",
    "import plotly.graph_objects as go\n",
    "\n",
    "app = Dash(__name__)\n",
    "\n",
    "fig = go.Figure(data=go.Scatter(\n",
    "    x=pd.Series(dtype=object), y=pd.Series(dtype=object)\n",
    "))\n",
    "\n",
    "# create app layout\n",
    "app.layout = html.Div([\n",
    "    html.H4('Graph of event count'),\n",
    "    dcc.Graph(id='graph', figure=fig),\n",
    "    html.H4('Incoming data.'),\n",
    "    lodrc.LOConnection(id='ws', url='ws://localhost:9999/wsapi/communication_protocol')\n",
    "])\n",
    "\n",
    "# Receive message from websocket and update graph\n",
    "clientside_callback(\n",
    "    '''function(msg) {\n",
    "        if (!msg) {\n",
    "            return window.dash_clientside.no_update;\n",
    "        }\n",
    "        // extract data from message\n",
    "        const data = JSON.parse(msg.data);\n",
    "        console.log(data);\n",
    "        const students = data.test.event_count;\n",
    "        if (students === undefined) { return window.dash_clientside.no_update; }\n",
    "        if (students.length === 0) {\n",
    "            return window.dash_clientside.no_update;\n",
    "        }\n",
    "        // prep data for dcc.Graph.extendData\n",
    "        const studentIndex = 0;\n",
    "        const x = [Date.now() / 1000];\n",
    "        const y = [students[studentIndex].event_count];\n",
    "        return [\n",
    "            { x: [x], y: [y] },\n",
    "            [0]\n",
    "        ];\n",
    "    }''',\n",
    "    Output('graph', 'extendData'),\n",
    "    Input('ws', 'message')\n",
    ")\n",
    "    \n",
    "# Send connection information on the websocket when the connectedj\n",
    "# NOTE that this uses an f''' (triple quote) string.\n",
    "# Any curly braces need to be doubled up because of this.\n",
    "clientside_callback(\n",
    "    f'''function(state) {{\n",
    "        if (state === undefined) {{\n",
    "            return window.dash_clientside.no_update;\n",
    "        }}\n",
    "        if (state.readyState === 1) {{\n",
    "            return JSON.stringify({{\"test\": {{\"execution_dag\": \"{module}\", \"target_exports\": [\"event_count\"], \"kwargs\": {{\"course_id\": 12345}}}}}});\n",
    "        }}\n",
    "    }}''',\n",
    "    Output('ws', 'send'),\n",
    "    Input('ws', 'state')\n",
    ")\n",
    "\n",
    "# `jupyter_mode='inline'` will run the dashboard below\n",
    "# `supress_callback_exceptions=True` will prevent dash\n",
    "# from warning you about callbacks with missing IDS.\n",
    "# These callbacks are from other dashboards.\n",
    "app.run_server(jupyter_mode='inline', suppress_callback_exceptions=True)\n"
   ]
  },
  {
   "cell_type": "code",
   "execution_count": null,
   "id": "4449c151-2119-432c-85d8-6c6a8cf64457",
   "metadata": {},
   "outputs": [],
   "source": []
  }
 ],
 "metadata": {
  "kernelspec": {
   "display_name": "Learning Observer Kernel",
   "language": "python",
   "name": "learning_observer_kernel"
  },
  "language_info": {
   "codemirror_mode": {
    "name": "ipython",
    "version": 3
   },
   "file_extension": ".py",
   "mimetype": "text/x-python",
   "name": "python",
   "nbconvert_exporter": "python",
   "pygments_lexer": "ipython3",
   "version": "3.10.12"
  }
 },
 "nbformat": 4,
 "nbformat_minor": 5
}
