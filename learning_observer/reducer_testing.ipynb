{
 "cells": [
  {
   "cell_type": "code",
   "execution_count": 1,
   "id": "4a7dd2a2-0337-49de-aad1-4f4acc3857ae",
   "metadata": {},
   "outputs": [],
   "source": [
    "# Create reducer\n",
    "from learning_observer.stream_analytics.helpers import kvs_pipeline, KeyField, Scope\n",
    "\n",
    "@kvs_pipeline(scope=Scope([KeyField.STUDENT]), module_override='testing')\n",
    "async def event_counter(event, state):\n",
    "    if state is None:\n",
    "        state = {}\n",
    "    state['event_count'] = state.get('event_count', 0) + 1\n",
    "    return state, state"
   ]
  },
  {
   "cell_type": "code",
   "execution_count": 2,
   "id": "169ee920-e84a-489c-8a47-eeadfbb84ba2",
   "metadata": {},
   "outputs": [
    {
     "name": "stdout",
     "output_type": "stream",
     "text": [
      "Loading execution DAG from example_mod\n"
     ]
    }
   ],
   "source": [
    "import learning_observer.jupyter_helpers\n",
    "\n",
    "ID = 'event_counter'\n",
    "module = 'example_mod'\n",
    "\n",
    "# add endpoint\n",
    "learning_observer.jupyter_helpers.add_reducer_to_execution_dag(ID, event_counter, module, {'event_count': 0})\n",
    "# start communication protocol endpoint\n",
    "# await learning_observer.jupyter_helpers.serve_communication_protocol_endpoint()"
   ]
  },
  {
   "cell_type": "code",
   "execution_count": 3,
   "id": "77b3cd68-839e-46f7-b93b-b44aac5d5276",
   "metadata": {
    "editable": true,
    "slideshow": {
     "slide_type": ""
    },
    "tags": []
   },
   "outputs": [
    {
     "data": {
      "text/html": [
       "\n",
       "        <iframe\n",
       "            width=\"100%\"\n",
       "            height=\"650\"\n",
       "            src=\"http://127.0.0.1:8050/\"\n",
       "            frameborder=\"0\"\n",
       "            allowfullscreen\n",
       "            \n",
       "        ></iframe>\n",
       "        "
      ],
      "text/plain": [
       "<IPython.lib.display.IFrame at 0x7f6ab19dbfa0>"
      ]
     },
     "metadata": {},
     "output_type": "display_data"
    }
   ],
   "source": [
    "# Create a dashboard to connect to the reducer you just wrote\n",
    "# This basic dashbaord will show the message back from the server\n",
    "# in a markdown format.\n",
    "import dash\n",
    "from dash import Dash, html, dcc, callback, Output, Input, State, clientside_callback, Patch\n",
    "import time\n",
    "import json\n",
    "import lo_dash_react_components as lodrc\n",
    "import pandas as pd\n",
    "import plotly.graph_objects as go\n",
    "\n",
    "app = Dash(__name__)\n",
    "\n",
    "fig = go.Figure(data=go.Scatter(\n",
    "    x=pd.Series(dtype=object), y=pd.Series(dtype=object),\n",
    "    # labels=dict(x='Time', y='Event counter')\n",
    "))\n",
    "\n",
    "app.layout = html.Div([\n",
    "    html.H4('Graph of event count'),\n",
    "    dcc.Graph(id='graph', figure=fig),\n",
    "    html.H4('Incoming data.'),\n",
    "    lodrc.LOConnection(id='ws', url='ws://localhost:9999/wsapi/communication_protocol')\n",
    "])\n",
    "\n",
    "clientside_callback(\n",
    "    '''function(msg) {\n",
    "        if (!msg) {\n",
    "            return window.dash_clientside.no_update;\n",
    "        }\n",
    "        const data = JSON.parse(msg.data);\n",
    "        const students = data.test.event_count;\n",
    "        console.log(students);\n",
    "        if (students.length === 0) {\n",
    "            console.log('inside')\n",
    "            return window.dash_clientside.no_update;\n",
    "        }\n",
    "        const studentIndex = 0;\n",
    "        const x = [Date.now() / 1000];\n",
    "        const y = [students[studentIndex].event_count];\n",
    "        return [\n",
    "            { x: [x], y: [y] },\n",
    "            [0]\n",
    "        ];\n",
    "    }''',\n",
    "    Output('graph', 'extendData'),\n",
    "    Input('ws', 'message')\n",
    ")\n",
    "# Send connection information on the websocket when the connected\n",
    "clientside_callback(\n",
    "    f'''function(state) {{\n",
    "        if (state === undefined) {{\n",
    "            return window.dash_clientside.no_update;\n",
    "        }}\n",
    "        if (state.readyState === 1) {{\n",
    "            return JSON.stringify({{\"test\": {{\"execution_dag\": \"{module}\", \"target_exports\": [\"event_count\"], \"kwargs\": {{\"course_id\": 12345}}}}}});\n",
    "        }}\n",
    "    }}''',\n",
    "    Output('ws', 'send'),\n",
    "    Input('ws', 'state')\n",
    ")\n",
    "\n",
    "\n",
    "app.run_server(jupyter_mode='inline', debug=True)"
   ]
  },
  {
   "cell_type": "code",
   "execution_count": 34,
   "id": "b731c105-a267-461c-aa84-399b4c2ee04e",
   "metadata": {
    "editable": true,
    "slideshow": {
     "slide_type": ""
    },
    "tags": []
   },
   "outputs": [
    {
     "name": "stdout",
     "output_type": "stream",
     "text": [
      "<function kvs_pipeline.<locals>.decorator.<locals>.wrapper_closure.<locals>.process_event at 0x7ff8989f2cb0>\n",
      "<function kvs_pipeline.<locals>.decorator.<locals>.wrapper_closure.<locals>.process_event at 0x7ff899b1aa70>\n"
     ]
    },
    {
     "data": {
      "text/plain": [
       "(1214, 'localhost.testcase', 'Tester')"
      ]
     },
     "execution_count": 34,
     "metadata": {},
     "output_type": "execute_result"
    }
   ],
   "source": [
    "# Run reducer over events this can be done with a list events or a sample file\n",
    "import learning_observer.offline\n",
    "\n",
    "# list of events\n",
    "events = [{}] * 3\n",
    "await learning_observer.offline.process_file(events_list=events, source=\"localhost.testcase\", pipeline=event_counter, userid='Tester')\n",
    "\n",
    "# sample file\n",
    "import os\n",
    "sample_file = os.path.join('learning_observer', 'logs', 'sample01.log')\n",
    "await learning_observer.offline.process_file(file_path=sample_file, source=\"localhost.testcase\", pipeline=event_counter, userid='Tester')"
   ]
  },
  {
   "cell_type": "code",
   "execution_count": 4,
   "id": "076828be-3425-4eb7-a608-2a1a30b6ae4a",
   "metadata": {},
   "outputs": [],
   "source": [
    "import learning_observer.stream_analytics"
   ]
  },
  {
   "cell_type": "code",
   "execution_count": 5,
   "id": "d8bd472f-5fc9-45b9-b51a-2dbaa1adc21e",
   "metadata": {},
   "outputs": [
    {
     "name": "stdout",
     "output_type": "stream",
     "text": [
      "{\n",
      "  \"org.mitros.mirror\": [\n",
      "    {\n",
      "      \"reducer\": \"<function init.<locals>.<lambda> at 0x7f6ab193b9a0>\"\n",
      "    }\n",
      "  ],\n",
      "  \"org.mitros.writing_analytics\": [\n",
      "    {\n",
      "      \"reducer\": \"<function time_on_task at 0x7f6ab8afcee0>\",\n",
      "      \"scope\": \"Scope({<KeyField.STUDENT: 1>, <EventField.doc_id>})\"\n",
      "    },\n",
      "    {\n",
      "      \"reducer\": \"<function reconstruct at 0x7f6ab8afd000>\",\n",
      "      \"scope\": \"Scope({<KeyField.STUDENT: 1>, <EventField.doc_id>})\"\n",
      "    },\n",
      "    {\n",
      "      \"reducer\": \"<function event_count at 0x7f6ab8afd120>\",\n",
      "      \"scope\": \"Scope({<KeyField.STUDENT: 1>})\"\n",
      "    },\n",
      "    {\n",
      "      \"reducer\": \"<function document_list at 0x7f6ab8afd480>\",\n",
      "      \"scope\": \"Scope({<KeyField.STUDENT: 1>})\"\n",
      "    },\n",
      "    {\n",
      "      \"reducer\": \"<function last_document at 0x7f6ab8afd5a0>\",\n",
      "      \"scope\": \"Scope({<KeyField.STUDENT: 1>})\"\n",
      "    },\n",
      "    {\n",
      "      \"reducer\": \"<function document_tagging at 0x7f6ab8afd360>\",\n",
      "      \"scope\": \"Scope({<KeyField.STUDENT: 1>})\"\n",
      "    },\n",
      "    {\n",
      "      \"reducer\": \"<function document_access_timestamps at 0x7f6ab8afd240>\",\n",
      "      \"scope\": \"Scope({<KeyField.STUDENT: 1>})\"\n",
      "    },\n",
      "    {\n",
      "      \"reducer\": \"<function event_counter at 0x7f6ab193b370>\",\n",
      "      \"scope\": \"Scope({<KeyField.STUDENT: 1>})\"\n",
      "    }\n",
      "  ]\n",
      "}\n"
     ]
    }
   ],
   "source": [
    "print(json.dumps(learning_observer.stream_analytics.REDUCER_MODULES, indent=2, default=str))"
   ]
  },
  {
   "cell_type": "code",
   "execution_count": null,
   "id": "33f8ae59-dfbc-4140-a96f-89c576779dad",
   "metadata": {},
   "outputs": [],
   "source": []
  }
 ],
 "metadata": {
  "kernelspec": {
   "display_name": "Learning Observer Kernel",
   "language": "python",
   "name": "learning_observer_kernel"
  },
  "language_info": {
   "codemirror_mode": {
    "name": "ipython",
    "version": 3
   },
   "file_extension": ".py",
   "mimetype": "text/x-python",
   "name": "python",
   "nbconvert_exporter": "python",
   "pygments_lexer": "ipython3",
   "version": "3.10.12"
  }
 },
 "nbformat": 4,
 "nbformat_minor": 5
}
