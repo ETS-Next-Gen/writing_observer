{
 "cells": [
  {
   "cell_type": "code",
   "execution_count": 1,
   "id": "4a7dd2a2-0337-49de-aad1-4f4acc3857ae",
   "metadata": {},
   "outputs": [],
   "source": [
    "# Create reducer\n",
    "from learning_observer.stream_analytics.helpers import kvs_pipeline, KeyField, Scope\n",
    "\n",
    "@kvs_pipeline(scope=Scope([KeyField.STUDENT]), module_override='testing')\n",
    "async def event_counter(event, state):\n",
    "    if state is None:\n",
    "        state = {}\n",
    "    state['event_count'] = state.get('event_count', 0) + 1\n",
    "    return state, state"
   ]
  },
  {
   "cell_type": "code",
   "execution_count": 2,
   "id": "169ee920-e84a-489c-8a47-eeadfbb84ba2",
   "metadata": {},
   "outputs": [
    {
     "name": "stdout",
     "output_type": "stream",
     "text": [
      "Loading execution DAG from example_mod\n"
     ]
    }
   ],
   "source": [
    "import learning_observer.jupyter_helpers\n",
    "\n",
    "ID = 'event_counter'\n",
    "module = 'example_mod'\n",
    "\n",
    "# add endpoint\n",
    "learning_observer.jupyter_helpers.add_reducer_to_execution_dag(ID, event_counter, module, {'event_count': 0})\n",
    "# start communication protocol endpoint\n",
    "# await learning_observer.jupyter_helpers.serve_communication_protocol_endpoint()"
   ]
  },
  {
   "cell_type": "code",
   "execution_count": 3,
   "id": "d98eb911-a126-47c2-84b0-15a339b48c32",
   "metadata": {
    "editable": true,
    "slideshow": {
     "slide_type": ""
    },
    "tags": []
   },
   "outputs": [
    {
     "data": {
      "application/vnd.jupyter.widget-view+json": {
       "model_id": "a414036da879435bbb173f4622647fc9",
       "version_major": 2,
       "version_minor": 0
      },
      "text/plain": [
       "Button(description='Start Server', style=ButtonStyle())"
      ]
     },
     "metadata": {},
     "output_type": "display_data"
    },
    {
     "data": {
      "application/vnd.jupyter.widget-view+json": {
       "model_id": "03905021d2014b029cc9dfaf27a3f241",
       "version_major": 2,
       "version_minor": 0
      },
      "text/plain": [
       "Button(description='Stop Server', disabled=True, style=ButtonStyle())"
      ]
     },
     "metadata": {},
     "output_type": "display_data"
    }
   ],
   "source": [
    "# start communication protocol endpoint\n",
    "await learning_observer.jupyter_helpers.serve_communication_protocol_endpoint()"
   ]
  },
  {
   "cell_type": "code",
   "execution_count": 5,
   "id": "77b3cd68-839e-46f7-b93b-b44aac5d5276",
   "metadata": {
    "editable": true,
    "slideshow": {
     "slide_type": ""
    },
    "tags": []
   },
   "outputs": [
    {
     "data": {
      "text/html": [
       "\n",
       "        <iframe\n",
       "            width=\"100%\"\n",
       "            height=\"650\"\n",
       "            src=\"http://127.0.0.1:8050/\"\n",
       "            frameborder=\"0\"\n",
       "            allowfullscreen\n",
       "            \n",
       "        ></iframe>\n",
       "        "
      ],
      "text/plain": [
       "<IPython.lib.display.IFrame at 0x7f50c8629e40>"
      ]
     },
     "metadata": {},
     "output_type": "display_data"
    }
   ],
   "source": [
    "# Create a dashboard to connect to the reducer you just wrote\n",
    "# This basic dashbaord will show the message back from the server\n",
    "# in a markdown format.\n",
    "import dash\n",
    "from dash import Dash, html, dcc, callback, Output, Input, State, clientside_callback, Patch\n",
    "import datetime\n",
    "import json\n",
    "import lo_dash_react_components as lodrc\n",
    "import plotly.graph_objects as go\n",
    "\n",
    "app = Dash(__name__)\n",
    "\n",
    "fig = go.Figure()\n",
    "\n",
    "app.layout = html.Div([\n",
    "    html.H4('Graph of event count'),\n",
    "    dcc.Graph(id='graph', figure=fig),\n",
    "    html.H4('Incoming data.'),\n",
    "    dcc.Markdown(id='out'),\n",
    "    lodrc.LOConnection(id='ws', url='ws://localhost:8765/ws')\n",
    "])\n",
    "\n",
    "clientside_callback(\n",
    "    '''function(msg) {\n",
    "        console.log(msg)\n",
    "        if (!msg) {\n",
    "            return window.dash_clientside.no_update;\n",
    "        }\n",
    "        // TODO extract the event count and then add it to a graph that also does not yet exist\n",
    "        return `\\`\\`\\`json\\n${JSON.stringify(JSON.parse(msg.data), null, 2)}\\n\\`\\`\\``; }''',\n",
    "    Output('out', 'children'),\n",
    "    Input('ws', 'message')\n",
    ")\n",
    "# Send connection information on the websocket when the connected\n",
    "clientside_callback(\n",
    "    f'''function(state) {{\n",
    "        if (state === undefined) {{\n",
    "            return window.dash_clientside.no_update;\n",
    "        }}\n",
    "        if (state.readyState === 1) {{\n",
    "            return JSON.stringify({{\"test\": {{\"execution_dag\": \"{module}\", \"target_exports\": [\"event_count\"], \"kwargs\": {{\"course_id\": 12345}}}}}});\n",
    "        }}\n",
    "    }}''',\n",
    "    Output('ws', 'send'),\n",
    "    Input('ws', 'state')\n",
    ")\n",
    "\n",
    "@callback(\n",
    "    Output('graph', 'figure'),\n",
    "    Input('ws', 'message')\n",
    "    # NOTE it is best practice to use a clientside\n",
    "    # callback for websockets. Regular callbacks\n",
    "    # will make more network requests than needed.\n",
    "    # We use a regular callback here to demonstrate\n",
    "    # some graphing capabilities.\n",
    ")\n",
    "def update_graph(msg):\n",
    "    if msg is None:\n",
    "        raise dash.exceptions.PreventUpdate\n",
    "    now = datetime.datetime.now()\n",
    "    data_raw = msg.get('data', {})\n",
    "    students = json.loads(data_raw).get('test', {}).get('event_count', [])\n",
    "    if len(students) == 0:\n",
    "        raise dash.exceptions.PreventUpdate\n",
    "    count = students[0].get('event_count', {})\n",
    "    p = Patch()\n",
    "    p['data'][0]['x'].append(now)\n",
    "    p['data'][0]['y'].append(count)\n",
    "    return p\n",
    "\n",
    "\n",
    "app.run_server(jupyter_mode='inline', debug=True)"
   ]
  },
  {
   "cell_type": "code",
   "execution_count": 8,
   "id": "b731c105-a267-461c-aa84-399b4c2ee04e",
   "metadata": {
    "editable": true,
    "slideshow": {
     "slide_type": ""
    },
    "tags": []
   },
   "outputs": [
    {
     "name": "stdout",
     "output_type": "stream",
     "text": [
      "<function kvs_pipeline.<locals>.decorator.<locals>.wrapper_closure.<locals>.process_event at 0x7f2bcc484d30>\n",
      "<function kvs_pipeline.<locals>.decorator.<locals>.wrapper_closure.<locals>.process_event at 0x7f2bcc3edc60>\n"
     ]
    },
    {
     "data": {
      "text/plain": [
       "(1214, 'localhost.testcase', 'Tester')"
      ]
     },
     "execution_count": 8,
     "metadata": {},
     "output_type": "execute_result"
    }
   ],
   "source": [
    "# Run reducer over events this can be done with a list events or a sample file\n",
    "import learning_observer.offline\n",
    "\n",
    "# list of events\n",
    "events = [{}] * 3\n",
    "await learning_observer.offline.process_file(events_list=events, source=\"localhost.testcase\", pipeline=event_counter, userid='Tester')\n",
    "\n",
    "# sample file\n",
    "import os\n",
    "sample_file = os.path.join('learning_observer', 'logs', 'sample01.log')\n",
    "await learning_observer.offline.process_file(file_path=sample_file, source=\"localhost.testcase\", pipeline=event_counter, userid='Tester')"
   ]
  },
  {
   "cell_type": "code",
   "execution_count": null,
   "id": "643b140f-ceb7-43f3-b90a-4931529daaa5",
   "metadata": {
    "editable": true,
    "slideshow": {
     "slide_type": ""
    },
    "tags": []
   },
   "outputs": [],
   "source": []
  },
  {
   "cell_type": "code",
   "execution_count": null,
   "id": "d6b0f24c-3df0-48f9-a655-6181c2695cd9",
   "metadata": {
    "editable": true,
    "slideshow": {
     "slide_type": ""
    },
    "tags": []
   },
   "outputs": [],
   "source": []
  }
 ],
 "metadata": {
  "kernelspec": {
   "display_name": "Learning Observer Kernel",
   "language": "python",
   "name": "learning_observer_kernel"
  },
  "language_info": {
   "codemirror_mode": {
    "name": "ipython",
    "version": 3
   },
   "file_extension": ".py",
   "mimetype": "text/x-python",
   "name": "python",
   "nbconvert_exporter": "python",
   "pygments_lexer": "ipython3",
   "version": "3.10.12"
  }
 },
 "nbformat": 4,
 "nbformat_minor": 5
}
