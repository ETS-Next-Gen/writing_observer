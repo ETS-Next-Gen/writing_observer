{
 "cells": [
  {
   "cell_type": "markdown",
   "id": "0bacc725-4463-48fe-9731-83c4e40515aa",
   "metadata": {},
   "source": [
    "# Running Reducers Locally\n",
    "\n",
    "This document serves as a walkthrough to setting up a reducer and running it locally."
   ]
  },
  {
   "cell_type": "markdown",
   "id": "6c78e246-6158-437f-9510-e4d23596e69d",
   "metadata": {},
   "source": [
    "## Initial Setup\n",
    "\n",
    "The Learning Observer platform offers an offline mode that will initialize all the necessary settings and modules."
   ]
  },
  {
   "cell_type": "code",
   "execution_count": 1,
   "id": "d6c55db5-55fd-4c41-9af3-844200209967",
   "metadata": {},
   "outputs": [
    {
     "name": "stdout",
     "output_type": "stream",
     "text": [
      "WARN:: Unrecognized Minty URL detected: https://cdn.jsdelivr.net/npm/bootswatch@5.2.3/dist/minty/bootstrap.min.css\n",
      "You will need to update dash bootstrap components hash value.\n",
      "\n",
      "WARN:: Unrecognized Minty URL detected: https://cdn.jsdelivr.net/npm/bootswatch@5.2.3/dist/minty/bootstrap.min.css\n",
      "You will need to update dash bootstrap components hash value.\n",
      "\n",
      "WARN:: Unrecognized Minty URL detected: https://cdn.jsdelivr.net/npm/bootswatch@5.2.3/dist/minty/bootstrap.min.css\n",
      "You will need to update dash bootstrap components hash value.\n",
      "\n"
     ]
    }
   ],
   "source": [
    "import learning_observer.offline\n",
    "learning_observer.offline.init()"
   ]
  },
  {
   "cell_type": "markdown",
   "id": "3f8b9ac0-a916-43c6-9423-7e8df3be1c83",
   "metadata": {},
   "source": [
    "## Creating the Reducer\n",
    "\n",
    "To create turn a function into a reducer, we need to wrap it in the `kvs_pipeline` decorator. This decorator handles setting the appropriate items in the KVS when the reducer is ran. Note that reducer functions are expected to take in an `event` and a `state` parameter. The function should output the `Internal` and `External` state.\n",
    "\n",
    "Additionally, we need to register our new reducer with the Learning Observer platform. When we want to query the communication protocol for data from this reducer, the system looks for the `id` of our reducer in the registered reducers."
   ]
  },
  {
   "cell_type": "code",
   "execution_count": 2,
   "id": "44ef1583-5086-4460-8c02-65b076cd9473",
   "metadata": {},
   "outputs": [],
   "source": [
    "from learning_observer.stream_analytics.helpers import kvs_pipeline, KeyField, Scope\n",
    "import learning_observer.module_loader\n",
    "\n",
    "# create reducer function\n",
    "@kvs_pipeline(scope=Scope([KeyField.STUDENT]), module_override='testing')\n",
    "async def event_counter(event, state):\n",
    "    if state is None:\n",
    "        state = {}\n",
    "    state['event_count'] = state.get('event_count', 0) + 1\n",
    "    return state, state\n",
    "\n",
    "# define specific information and register reducer\n",
    "reducer = {\n",
    "    'context': 'local.testing',\n",
    "    'function': event_counter,\n",
    "    'scope': Scope([KeyField.STUDENT]),\n",
    "    'default': {'event_count': 0},\n",
    "    'module': 'testing',\n",
    "    'id': 'test-event-reducer'\n",
    "}\n",
    "reducers = learning_observer.module_loader.add_reducer(reducer, 'test-event-reducer')"
   ]
  },
  {
   "cell_type": "markdown",
   "id": "004b224a-a12e-4ea2-8984-04c1b531a407",
   "metadata": {},
   "source": [
    "## Running the Reducer over Data\n",
    "\n",
    "Learning Observer's offline mode allows for processing event files through reducers. First, we define which files we want ran. Then, we process them through a specific reducer (the `pipeline` parameter`)."
   ]
  },
  {
   "cell_type": "code",
   "execution_count": 3,
   "id": "b72f9c3a-21b2-4cf8-9e50-3bf43e599116",
   "metadata": {
    "scrolled": true
   },
   "outputs": [
    {
     "data": {
      "text/plain": [
       "(1214, 'localhost.testcase', 'Tester')"
      ]
     },
     "execution_count": 3,
     "metadata": {},
     "output_type": "execute_result"
    }
   ],
   "source": [
    "import os\n",
    "input_path = os.path.join(os.getcwd(), 'learning_observer', 'learning_observer', 'logs', 'sample01.log')\n",
    "await learning_observer.offline.process_file(file_path=input_path, source=\"localhost.testcase\", pipeline=event_counter, userid='Tester')"
   ]
  },
  {
   "cell_type": "code",
   "execution_count": 4,
   "id": "3334198b-800c-43df-975b-7dcb0f40317f",
   "metadata": {},
   "outputs": [
    {
     "name": "stdout",
     "output_type": "stream",
     "text": [
      "Keys:\n",
      "['Internal,testing.event_counter,STUDENT:Tester', 'External,testing.event_counter,STUDENT:Tester']\n"
     ]
    },
    {
     "data": {
      "text/plain": [
       "{'event_count': 1214}"
      ]
     },
     "execution_count": 4,
     "metadata": {},
     "output_type": "execute_result"
    }
   ],
   "source": [
    "# check to see if our reducer ran correctly\n",
    "kvs = learning_observer.kvs.KVS()\n",
    "print(\"Keys:\")\n",
    "keys = await kvs.keys()\n",
    "print(keys)\n",
    "await kvs['Internal,testing.event_counter,STUDENT:Tester']\n"
   ]
  },
  {
   "cell_type": "markdown",
   "id": "29f13776-79a9-4482-9509-3d24edb91c6b",
   "metadata": {},
   "source": [
    "## Query Reducer\n",
    "\n",
    "To properly query the results of a reducer in the communication protocol, we need to create and execute an execution DAG."
   ]
  },
  {
   "cell_type": "code",
   "execution_count": 5,
   "id": "3a8c0a35-61f4-45fe-82b7-38bb73d04373",
   "metadata": {},
   "outputs": [],
   "source": [
    "import learning_observer.communication_protocol.query as q\n",
    "course_roster = q.call('learning_observer.courseroster')\n",
    "EXECUTION_DAG = {\n",
    "    \"execution_dag\": {\n",
    "        \"roster\": course_roster(runtime=q.parameter(\"runtime\"), course_id=q.parameter(\"course_id\", required=True)),\n",
    "        'event_count': q.select(q.keys('test-event-reducer', STUDENTS=q.variable(\"roster\"), STUDENTS_path='user_id'), fields={'event_count': 'event_count'}),\n",
    "    },\n",
    "    \"exports\": {\n",
    "        'event_count': {\n",
    "            'returns': 'event_count'\n",
    "        }\n",
    "    }\n",
    "}"
   ]
  },
  {
   "cell_type": "code",
   "execution_count": 6,
   "id": "d7106acd-b678-4590-894d-1e19bcaa08a8",
   "metadata": {},
   "outputs": [
    {
     "data": {
      "text/plain": [
       "{'event_count': [{'event_count': 1214}]}"
      ]
     },
     "execution_count": 6,
     "metadata": {},
     "output_type": "execute_result"
    }
   ],
   "source": [
    "import learning_observer.communication_protocol.integration\n",
    "import learning_observer.runtime\n",
    "func = learning_observer.communication_protocol.integration.prepare_dag_execution(EXECUTION_DAG, ['event_count'])\n",
    "await func(course_id=12345, runtime=learning_observer.runtime.Runtime(None))"
   ]
  },
  {
   "cell_type": "code",
   "execution_count": null,
   "id": "253b9d4c-0134-4368-83f8-2514cd37bba6",
   "metadata": {},
   "outputs": [],
   "source": []
  }
 ],
 "metadata": {
  "kernelspec": {
   "display_name": "Python 3 (ipykernel)",
   "language": "python",
   "name": "python3"
  },
  "language_info": {
   "codemirror_mode": {
    "name": "ipython",
    "version": 3
   },
   "file_extension": ".py",
   "mimetype": "text/x-python",
   "name": "python",
   "nbconvert_exporter": "python",
   "pygments_lexer": "ipython3",
   "version": "3.10.12"
  }
 },
 "nbformat": 4,
 "nbformat_minor": 5
}
